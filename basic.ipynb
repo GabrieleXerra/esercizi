{
 "cells": [
  {
   "cell_type": "markdown",
   "metadata": {},
   "source": [
    "# data una parola stampi se è o non è palindroma"
   ]
  },
  {
   "cell_type": "code",
   "execution_count": 23,
   "metadata": {},
   "outputs": [
    {
     "name": "stdout",
     "output_type": "stream",
     "text": [
      "Palindrome\n"
     ]
    }
   ],
   "source": [
    "word = input()\n",
    "if str(word) == str(word)[::-1]:\n",
    "    print(\"Palindrome\")\n",
    "else:\n",
    "    print(\"Not Palindrome\")"
   ]
  },
  {
   "cell_type": "code",
   "execution_count": 24,
   "metadata": {},
   "outputs": [
    {
     "name": "stdout",
     "output_type": "stream",
     "text": [
      "Not Palindrome\n"
     ]
    }
   ],
   "source": [
    "parola_palindroma = (\"yuggo\")\n",
    "if str(parola_palindroma) == str(parola_palindroma)[::-1]:\n",
    "    print(\"Palindrome\")\n",
    "else:\n",
    "    print(\"Not Palindrome\")"
   ]
  },
  {
   "cell_type": "code",
   "execution_count": 25,
   "metadata": {},
   "outputs": [],
   "source": [
    "def check_palindrome(word):\n",
    "    word = str(word).lower()\n",
    "    if word[::-1]==word:\n",
    "        print(f\"{word} è palindromo\")\n",
    "    else:\n",
    "        print(word + 'Non è palindromo')"
   ]
  },
  {
   "cell_type": "code",
   "execution_count": 26,
   "metadata": {},
   "outputs": [
    {
     "name": "stdout",
     "output_type": "stream",
     "text": [
      "d&d è palindromo\n"
     ]
    }
   ],
   "source": [
    "check_palindrome('D&D')"
   ]
  },
  {
   "cell_type": "code",
   "execution_count": 27,
   "metadata": {},
   "outputs": [
    {
     "ename": "SyntaxError",
     "evalue": "invalid syntax (957192762.py, line 3)",
     "output_type": "error",
     "traceback": [
      "  \u001b[36mCell\u001b[39m\u001b[36m \u001b[39m\u001b[32mIn[27]\u001b[39m\u001b[32m, line 3\u001b[39m\n\u001b[31m    \u001b[39m\u001b[31m<img\u001b[39m\n    ^\n\u001b[31mSyntaxError\u001b[39m\u001b[31m:\u001b[39m invalid syntax\n"
     ]
    }
   ],
   "source": [
    "#open (\"PiccoloPrincipe.jpg\") \n",
    "#<!-- Immagine del profilo con margine a destra -->\n",
    "<img  \n",
    "align=\"left\"   \n",
    "alt=\"Profile Picture\"  \n",
    "src=\"PiccoloPrincipe.jpg\" ;/>\n",
    "#style=\"width: 23%; margin-right: 50px;\" \n",
    "#/>"
   ]
  },
  {
   "cell_type": "markdown",
   "metadata": {},
   "source": [
    "conta tutte le vocali, output il numero delle vocali"
   ]
  },
  {
   "cell_type": "code",
   "execution_count": null,
   "metadata": {},
   "outputs": [],
   "source": [
    "def count_vocali(word):\n",
    "    vocali=\"AEIOUaeiou\"\n",
    "    counter=0\n",
    "    for i in word:\n",
    "        if i in vocali:\n",
    "            counter +=1\n",
    "    return counter"
   ]
  },
  {
   "cell_type": "code",
   "execution_count": null,
   "metadata": {},
   "outputs": [],
   "source": [
    "count_vocali('ciaO')"
   ]
  },
  {
   "cell_type": "code",
   "execution_count": null,
   "metadata": {},
   "outputs": [],
   "source": [
    "utente = {}  # dizionario vuoto struttura chiave\n",
    "\n",
    "utente['nome'] = 'Mario'\n",
    "utente['cognome'] = 'Rossi'  # ['chiave']= 'valore'\n"
   ]
  },
  {
   "cell_type": "markdown",
   "metadata": {},
   "source": [
    "per ogni lettera mi conti quante volte è contenuta nella stringa"
   ]
  },
  {
   "cell_type": "code",
   "execution_count": 28,
   "metadata": {},
   "outputs": [],
   "source": [
    "stringa = 'il cielo è sempre più blu'\n"
   ]
  },
  {
   "cell_type": "code",
   "execution_count": 35,
   "metadata": {},
   "outputs": [],
   "source": [
    "def count_word(word):\n",
    "    counter =  {}  #dizionario\n",
    "    word = word.replace(\" \",\"\")\n",
    "    for i in word:\n",
    "        if not i in counter:\n",
    "            counter[i] = 1    #inserisci\n",
    "        else:\n",
    "            counter[i] +=1    #aggiungere uno\n",
    "    return counter"
   ]
  },
  {
   "cell_type": "code",
   "execution_count": null,
   "metadata": {},
   "outputs": [
    {
     "data": {
      "text/plain": [
       "{'b': 1, 'a': 3, 'n': 2}"
      ]
     },
     "execution_count": 36,
     "metadata": {},
     "output_type": "execute_result"
    }
   ],
   "source": [
    "conteggio= count_word('banana')\n",
    "conteggio"
   ]
  },
  {
   "cell_type": "markdown",
   "metadata": {},
   "source": [
    "output tutte le lettere e per ogni lettera il numero di volte in cui appare/conteggio"
   ]
  },
  {
   "cell_type": "markdown",
   "metadata": {},
   "source": [
    "funzione che prende in input una lista e restituisce una lista senza duplicati"
   ]
  },
  {
   "cell_type": "code",
   "execution_count": 38,
   "metadata": {},
   "outputs": [
    {
     "data": {
      "text/plain": [
       "[1, 2, 3]"
      ]
     },
     "execution_count": 38,
     "metadata": {},
     "output_type": "execute_result"
    }
   ],
   "source": [
    "listaduplicati =  [1,2,3,3,3,2] \n",
    "def rimuovi_duplicati(listaduplicati): \n",
    "    senzaduplicati = []\n",
    "    for i in listaduplicati:\n",
    "        if not i in senzaduplicati:\n",
    "            senzaduplicati.append(i)\n",
    "    return senzaduplicati\n",
    "listaduplicati = rimuovi_duplicati(listaduplicati)\n",
    "listaduplicati"
   ]
  },
  {
   "cell_type": "code",
   "execution_count": 3,
   "metadata": {},
   "outputs": [],
   "source": [
    "risposta = input(\"Quanto è simpatico Trump da 1 a 10\")"
   ]
  },
  {
   "cell_type": "code",
   "execution_count": 4,
   "metadata": {},
   "outputs": [
    {
     "name": "stdout",
     "output_type": "stream",
     "text": [
      "1\n"
     ]
    }
   ],
   "source": [
    "print (risposta)"
   ]
  },
  {
   "cell_type": "code",
   "execution_count": 9,
   "metadata": {},
   "outputs": [],
   "source": [
    "risposta_bella = input(\"ti è simpatico Donald Trump? (y/n)\")"
   ]
  },
  {
   "cell_type": "code",
   "execution_count": 10,
   "metadata": {},
   "outputs": [
    {
     "name": "stdout",
     "output_type": "stream",
     "text": [
      "y\n"
     ]
    }
   ],
   "source": [
    "print (risposta_bella)"
   ]
  },
  {
   "cell_type": "markdown",
   "metadata": {},
   "source": [
    "funzione che controlla se la risposta da y/n , in output deve dare vero o falso"
   ]
  },
  {
   "cell_type": "code",
   "execution_count": 20,
   "metadata": {},
   "outputs": [],
   "source": [
    "def is_valid(answer):\n",
    "    is_yes = answer == \"y\"\n",
    "    is_not = answer == \"n\"\n",
    "    if is_yes or is_not:\n",
    "        return True\n",
    "    return False"
   ]
  },
  {
   "cell_type": "markdown",
   "metadata": {},
   "source": [
    "tramite funzione messo un parametro stampa l'input "
   ]
  },
  {
   "cell_type": "code",
   "execution_count": null,
   "metadata": {},
   "outputs": [],
   "source": [
    "def ask_question(question):\n",
    "    answer = input(question)\n",
    "    if not is_valid(answer):\n",
    "        print(\"Invalid answer\")\n",
    "        return ask_question(question)   #necessario affinché il print sappia ciò che deve outpuntare\n",
    "    else:\n",
    "        return answer\n",
    "    #funzione ricorsiva"
   ]
  },
  {
   "cell_type": "code",
   "execution_count": 24,
   "metadata": {},
   "outputs": [],
   "source": [
    "domanda = (\"Python è bello ?\")"
   ]
  },
  {
   "cell_type": "code",
   "execution_count": 25,
   "metadata": {},
   "outputs": [
    {
     "name": "stdout",
     "output_type": "stream",
     "text": [
      "Invalid answer\n"
     ]
    },
    {
     "data": {
      "text/plain": [
       "'y'"
      ]
     },
     "execution_count": 25,
     "metadata": {},
     "output_type": "execute_result"
    }
   ],
   "source": [
    "ask_question(domanda)"
   ]
  },
  {
   "cell_type": "markdown",
   "metadata": {},
   "source": [
    "funzione che mi da ok se la risposta è accettata e che mi riponga la domanda se non è corretta"
   ]
  },
  {
   "cell_type": "code",
   "execution_count": null,
   "metadata": {},
   "outputs": [],
   "source": [
    "def answer_correct(answer,question):\n",
    "    if is_valid(answer):\n",
    "        print(\"ok\")\n",
    "    else:\n",
    "        ask_question(question)\n",
    "    \n"
   ]
  },
  {
   "cell_type": "markdown",
   "metadata": {},
   "source": [
    "indovina la risposta corretta y=vera +1 n=falsa +1"
   ]
  },
  {
   "cell_type": "code",
   "execution_count": 26,
   "metadata": {},
   "outputs": [],
   "source": [
    "vere = ['Roma è in Italia', \"Le mele sono buone\", \"Le carote sono arancioni\"]\n",
    "false = ['Parigi è economica', 'A Napoli si mangia male', 'La reggaeton è bella']"
   ]
  },
  {
   "cell_type": "code",
   "execution_count": 27,
   "metadata": {},
   "outputs": [],
   "source": [
    "import random"
   ]
  },
  {
   "cell_type": "code",
   "execution_count": null,
   "metadata": {},
   "outputs": [],
   "source": [
    "counter = 0\n",
    "def quiz(vere, false):\n",
    "    true_and_false_question = vere + false\n",
    "    domanda = random.choice(true_and_false_question)\n",
    "    risposta = ask_question(domanda)\n",
    "    if risposta == 'y' and domanda in vere:\n",
    "        counter += 1\n",
    "    elif risposta == 'n' and domanda in false:\n",
    "        counter += 1\n",
    "    else:\n",
    "        counter -=1"
   ]
  },
  {
   "cell_type": "markdown",
   "metadata": {},
   "source": [
    "quiz meglio"
   ]
  },
  {
   "cell_type": "code",
   "execution_count": null,
   "metadata": {},
   "outputs": [],
   "source": [
    "def is_valid(answer):\n",
    "    is_yes = answer == \"y\"\n",
    "    is_not = answer == \"n\"\n",
    "    if is_yes or is_not:\n",
    "        return True\n",
    "    return False"
   ]
  },
  {
   "cell_type": "code",
   "execution_count": null,
   "metadata": {},
   "outputs": [],
   "source": [
    "def ask_question(question):\n",
    "    answer = input(question)\n",
    "    if not is_valid(answer):\n",
    "        print(\"Invalid answer\")\n",
    "        return ask_question(question)   #necessario affinché il print sappia ciò che deve outpuntare\n",
    "    else:\n",
    "        return answer\n",
    "    #funzione ricorsiva"
   ]
  },
  {
   "cell_type": "code",
   "execution_count": null,
   "metadata": {},
   "outputs": [],
   "source": [
    "def valuate_answer(question, answer, vere, false):\n",
    "    if answer == 'y' and question in vere:\n",
    "        return 1\n",
    "    elif answer == 'n' and question in false:\n",
    "        return 1\n",
    "    else:\n",
    "        return -1"
   ]
  },
  {
   "cell_type": "code",
   "execution_count": null,
   "metadata": {},
   "outputs": [],
   "source": [
    "def make_step(vere, false, counter):\n",
    "    tf_questions = vere + false\n",
    "    domanda = random.choice(tf_questions)\n",
    "    risposta = ask_question(domanda)\n",
    "    counter = counter + valuate_answer(domanda, risposta, vere, false)\n",
    "    return counter\n",
    "    "
   ]
  },
  {
   "cell_type": "code",
   "execution_count": null,
   "metadata": {},
   "outputs": [],
   "source": [
    "count = 0\n",
    "def quiz(vere, false, count):\n",
    "    new_counter = make_step(vere, false, count)\n",
    "    if new_counter > count:\n",
    "        print(\"correct\")\n",
    "    else:\n",
    "        print(\"incorrect\")\n",
    "    quiz(vere, false, new_counter)"
   ]
  },
  {
   "cell_type": "code",
   "execution_count": null,
   "metadata": {},
   "outputs": [],
   "source": [
    "quiz(vere, false, count)"
   ]
  }
 ],
 "metadata": {
  "kernelspec": {
   "display_name": ".venv",
   "language": "python",
   "name": "python3"
  },
  "language_info": {
   "codemirror_mode": {
    "name": "ipython",
    "version": 3
   },
   "file_extension": ".py",
   "mimetype": "text/x-python",
   "name": "python",
   "nbconvert_exporter": "python",
   "pygments_lexer": "ipython3",
   "version": "3.12.9"
  }
 },
 "nbformat": 4,
 "nbformat_minor": 2
}
