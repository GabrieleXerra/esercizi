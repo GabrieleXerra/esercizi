{
 "cells": [
  {
   "cell_type": "markdown",
   "metadata": {},
   "source": [
    "# data una parola stampi se è o non è palindroma"
   ]
  },
  {
   "cell_type": "code",
   "execution_count": 23,
   "metadata": {},
   "outputs": [
    {
     "name": "stdout",
     "output_type": "stream",
     "text": [
      "Palindrome\n"
     ]
    }
   ],
   "source": [
    "word = input()\n",
    "if str(word) == str(word)[::-1]:\n",
    "    print(\"Palindrome\")\n",
    "else:\n",
    "    print(\"Not Palindrome\")"
   ]
  },
  {
   "cell_type": "code",
   "execution_count": 24,
   "metadata": {},
   "outputs": [
    {
     "name": "stdout",
     "output_type": "stream",
     "text": [
      "Not Palindrome\n"
     ]
    }
   ],
   "source": [
    "parola_palindroma = (\"yuggo\")\n",
    "if str(parola_palindroma) == str(parola_palindroma)[::-1]:\n",
    "    print(\"Palindrome\")\n",
    "else:\n",
    "    print(\"Not Palindrome\")"
   ]
  },
  {
   "cell_type": "code",
   "execution_count": 25,
   "metadata": {},
   "outputs": [],
   "source": [
    "def check_palindrome(word):\n",
    "    word = str(word).lower()\n",
    "    if word[::-1]==word:\n",
    "        print(f\"{word} è palindromo\")\n",
    "    else:\n",
    "        print(word + 'Non è palindromo')"
   ]
  },
  {
   "cell_type": "code",
   "execution_count": 26,
   "metadata": {},
   "outputs": [
    {
     "name": "stdout",
     "output_type": "stream",
     "text": [
      "d&d è palindromo\n"
     ]
    }
   ],
   "source": [
    "check_palindrome('D&D')"
   ]
  },
  {
   "cell_type": "code",
   "execution_count": 27,
   "metadata": {},
   "outputs": [
    {
     "ename": "SyntaxError",
     "evalue": "invalid syntax (957192762.py, line 3)",
     "output_type": "error",
     "traceback": [
      "  \u001b[36mCell\u001b[39m\u001b[36m \u001b[39m\u001b[32mIn[27]\u001b[39m\u001b[32m, line 3\u001b[39m\n\u001b[31m    \u001b[39m\u001b[31m<img\u001b[39m\n    ^\n\u001b[31mSyntaxError\u001b[39m\u001b[31m:\u001b[39m invalid syntax\n"
     ]
    }
   ],
   "source": [
    "#open (\"PiccoloPrincipe.jpg\") \n",
    "#<!-- Immagine del profilo con margine a destra -->\n",
    "<img  \n",
    "align=\"left\"   \n",
    "alt=\"Profile Picture\"  \n",
    "src=\"PiccoloPrincipe.jpg\" ;/>\n",
    "#style=\"width: 23%; margin-right: 50px;\" \n",
    "#/>"
   ]
  },
  {
   "cell_type": "markdown",
   "metadata": {},
   "source": [
    "conta tutte le vocali, output il numero delle vocali"
   ]
  },
  {
   "cell_type": "code",
   "execution_count": null,
   "metadata": {},
   "outputs": [],
   "source": [
    "def count_vocali(word):\n",
    "    vocali=\"AEIOUaeiou\"\n",
    "    counter=0\n",
    "    for i in word:\n",
    "        if i in vocali:\n",
    "            counter +=1\n",
    "    return counter"
   ]
  },
  {
   "cell_type": "code",
   "execution_count": null,
   "metadata": {},
   "outputs": [],
   "source": [
    "count_vocali('ciaO')"
   ]
  },
  {
   "cell_type": "code",
   "execution_count": null,
   "metadata": {},
   "outputs": [],
   "source": [
    "utente = {}  # dizionario vuoto struttura chiave\n",
    "\n",
    "utente['nome'] = 'Mario'\n",
    "utente['cognome'] = 'Rossi'  # ['chiave']= 'valore'\n"
   ]
  },
  {
   "cell_type": "markdown",
   "metadata": {},
   "source": [
    "per ogni lettera mi conti quante volte è contenuta nella stringa"
   ]
  },
  {
   "cell_type": "code",
   "execution_count": 28,
   "metadata": {},
   "outputs": [],
   "source": [
    "stringa = 'il cielo è sempre più blu'\n"
   ]
  },
  {
   "cell_type": "code",
   "execution_count": 35,
   "metadata": {},
   "outputs": [],
   "source": [
    "def count_word(word):\n",
    "    counter =  {}  #dizionario\n",
    "    word = word.replace(\" \",\"\")\n",
    "    for i in word:\n",
    "        if not i in counter:\n",
    "            counter[i] = 1    #inserisci\n",
    "        else:\n",
    "            counter[i] +=1    #aggiungere uno\n",
    "    return counter"
   ]
  },
  {
   "cell_type": "code",
   "execution_count": null,
   "metadata": {},
   "outputs": [
    {
     "data": {
      "text/plain": [
       "{'b': 1, 'a': 3, 'n': 2}"
      ]
     },
     "execution_count": 36,
     "metadata": {},
     "output_type": "execute_result"
    }
   ],
   "source": [
    "conteggio= count_word('banana')\n",
    "conteggio"
   ]
  },
  {
   "cell_type": "markdown",
   "metadata": {},
   "source": [
    "output tutte le lettere e per ogni lettera il numero di volte in cui appare/conteggio"
   ]
  },
  {
   "cell_type": "markdown",
   "metadata": {},
   "source": [
    "funzione facile"
   ]
  }
 ],
 "metadata": {
  "kernelspec": {
   "display_name": ".venv",
   "language": "python",
   "name": "python3"
  },
  "language_info": {
   "codemirror_mode": {
    "name": "ipython",
    "version": 3
   },
   "file_extension": ".py",
   "mimetype": "text/x-python",
   "name": "python",
   "nbconvert_exporter": "python",
   "pygments_lexer": "ipython3",
   "version": "3.12.9"
  }
 },
 "nbformat": 4,
 "nbformat_minor": 2
}
